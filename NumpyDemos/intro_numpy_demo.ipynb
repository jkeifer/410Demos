{
 "metadata": {
  "name": "",
  "signature": "sha256:16e6787b610e3f9228660a6ac2c366ebb8094770f32b5d287327789b8ff81a60"
 },
 "nbformat": 3,
 "nbformat_minor": 0,
 "worksheets": [
  {
   "cells": [
    {
     "cell_type": "heading",
     "level": 3,
     "metadata": {},
     "source": [
      "Import numpy"
     ]
    },
    {
     "cell_type": "code",
     "collapsed": false,
     "input": [
      "import numpy as np"
     ],
     "language": "python",
     "metadata": {},
     "outputs": [],
     "prompt_number": 46
    },
    {
     "cell_type": "heading",
     "level": 3,
     "metadata": {},
     "source": [
      "Making an array"
     ]
    },
    {
     "cell_type": "code",
     "collapsed": false,
     "input": [
      "# a 2-dimensional array\n",
      "x = np.array([[1,2,3,4],\n",
      "              [1,2,3,4]])\n",
      "\n",
      "x"
     ],
     "language": "python",
     "metadata": {},
     "outputs": [
      {
       "metadata": {},
       "output_type": "pyout",
       "prompt_number": 47,
       "text": [
        "array([[1, 2, 3, 4],\n",
        "       [1, 2, 3, 4]])"
       ]
      }
     ],
     "prompt_number": 47
    },
    {
     "cell_type": "code",
     "collapsed": false,
     "input": [
      "# we can see the type is the numpy ndarray\n",
      "print type(x)"
     ],
     "language": "python",
     "metadata": {},
     "outputs": [
      {
       "output_type": "stream",
       "stream": "stdout",
       "text": [
        "<type 'numpy.ndarray'>\n"
       ]
      }
     ],
     "prompt_number": 48
    },
    {
     "cell_type": "code",
     "collapsed": false,
     "input": [
      "# we can also get some basic properties of the array\n",
      "print x.shape\n",
      "print x.size\n",
      "print x.ndim\n",
      "print x.dtype"
     ],
     "language": "python",
     "metadata": {},
     "outputs": [
      {
       "output_type": "stream",
       "stream": "stdout",
       "text": [
        "(2, 4)\n",
        "8\n",
        "2\n",
        "int32\n"
       ]
      }
     ],
     "prompt_number": 49
    },
    {
     "cell_type": "code",
     "collapsed": false,
     "input": [
      "# the numpy function arange is just like\n",
      "# range, except it returns an array, not a list\n",
      "y = np.arange(10)\n",
      "\n",
      "print y\n",
      "print y.shape\n",
      "print y.size\n",
      "print y.ndim"
     ],
     "language": "python",
     "metadata": {},
     "outputs": [
      {
       "output_type": "stream",
       "stream": "stdout",
       "text": [
        "[0 1 2 3 4 5 6 7 8 9]\n",
        "(10,)\n",
        "10\n",
        "1\n"
       ]
      }
     ],
     "prompt_number": 50
    },
    {
     "cell_type": "code",
     "collapsed": false,
     "input": [
      "# zeros makes an array of a given\n",
      "# shape with all zero values\n",
      "z = np.zeros((10,))\n",
      "\n",
      "print z"
     ],
     "language": "python",
     "metadata": {},
     "outputs": [
      {
       "output_type": "stream",
       "stream": "stdout",
       "text": [
        "[ 0.  0.  0.  0.  0.  0.  0.  0.  0.  0.]\n"
       ]
      }
     ],
     "prompt_number": 51
    },
    {
     "cell_type": "code",
     "collapsed": false,
     "input": [
      "# the default of zeros is a floating-point\n",
      "# datatype, but we can define it as we need\n",
      "# dtype is an optional argument anytime we \n",
      "# are creating an array\n",
      "z_int = np.zeros((10,), dtype='int32')\n",
      "\n",
      "print z_int"
     ],
     "language": "python",
     "metadata": {},
     "outputs": [
      {
       "output_type": "stream",
       "stream": "stdout",
       "text": [
        "[0 0 0 0 0 0 0 0 0 0]\n"
       ]
      }
     ],
     "prompt_number": 52
    },
    {
     "cell_type": "code",
     "collapsed": false,
     "input": [
      "# here is an example of creating an array\n",
      "# using some list manipulation techniques\n",
      "a = np.array(range(10) * 5)\n",
      "b = np.array([range(10)] * 5)\n",
      "\n",
      "print a\n",
      "print a.shape\n",
      "print a.size\n",
      "print \"\"\n",
      "print b\n",
      "print b.shape\n",
      "print b.size"
     ],
     "language": "python",
     "metadata": {},
     "outputs": [
      {
       "output_type": "stream",
       "stream": "stdout",
       "text": [
        "[0 1 2 3 4 5 6 7 8 9 0 1 2 3 4 5 6 7 8 9 0 1 2 3 4 5 6 7 8 9 0 1 2 3 4 5 6\n",
        " 7 8 9 0 1 2 3 4 5 6 7 8 9]\n",
        "(50,)\n",
        "50\n",
        "\n",
        "[[0 1 2 3 4 5 6 7 8 9]\n",
        " [0 1 2 3 4 5 6 7 8 9]\n",
        " [0 1 2 3 4 5 6 7 8 9]\n",
        " [0 1 2 3 4 5 6 7 8 9]\n",
        " [0 1 2 3 4 5 6 7 8 9]]\n",
        "(5, 10)\n",
        "50\n"
       ]
      }
     ],
     "prompt_number": 53
    },
    {
     "cell_type": "heading",
     "level": 3,
     "metadata": {},
     "source": [
      "Operations with Existing Arrays"
     ]
    },
    {
     "cell_type": "code",
     "collapsed": false,
     "input": [
      "# make a 1-dimensional array\n",
      "c = np.arange(5,10)\n",
      "# stack the array vertically to create a \n",
      "# 2-dimensional array\n",
      "d = np.vstack([c,c,c,c])\n",
      "# hoizontally stack the result from the vstack\n",
      "e = np.hstack([d,d])\n",
      "\n",
      "print c\n",
      "print \"\"\n",
      "print d\n",
      "print \"\"\n",
      "print e"
     ],
     "language": "python",
     "metadata": {},
     "outputs": [
      {
       "output_type": "stream",
       "stream": "stdout",
       "text": [
        "[5 6 7 8 9]\n",
        "\n",
        "[[5 6 7 8 9]\n",
        " [5 6 7 8 9]\n",
        " [5 6 7 8 9]\n",
        " [5 6 7 8 9]]\n",
        "\n",
        "[[5 6 7 8 9 5 6 7 8 9]\n",
        " [5 6 7 8 9 5 6 7 8 9]\n",
        " [5 6 7 8 9 5 6 7 8 9]\n",
        " [5 6 7 8 9 5 6 7 8 9]]\n"
       ]
      }
     ],
     "prompt_number": 54
    },
    {
     "cell_type": "code",
     "collapsed": false,
     "input": [
      "# a transpose operation\n",
      "# note that the output is unchanged\n",
      "# as the axes do not change order\n",
      "# (that, axis 0 is still axis 0 and\n",
      "# axis 1 is still axis 1)\n",
      "print e.transpose(0, 1)"
     ],
     "language": "python",
     "metadata": {},
     "outputs": [
      {
       "output_type": "stream",
       "stream": "stdout",
       "text": [
        "[[5 6 7 8 9 5 6 7 8 9]\n",
        " [5 6 7 8 9 5 6 7 8 9]\n",
        " [5 6 7 8 9 5 6 7 8 9]\n",
        " [5 6 7 8 9 5 6 7 8 9]]\n"
       ]
      }
     ],
     "prompt_number": 55
    },
    {
     "cell_type": "code",
     "collapsed": false,
     "input": [
      "# here we actually use transpose to do\n",
      "# something: we flipped the axes:\n",
      "# axis 1 is now 0 and 0 is now 1\n",
      "f = e.transpose(1, 0)\n",
      "\n",
      "print f"
     ],
     "language": "python",
     "metadata": {},
     "outputs": [
      {
       "output_type": "stream",
       "stream": "stdout",
       "text": [
        "[[5 5 5 5]\n",
        " [6 6 6 6]\n",
        " [7 7 7 7]\n",
        " [8 8 8 8]\n",
        " [9 9 9 9]\n",
        " [5 5 5 5]\n",
        " [6 6 6 6]\n",
        " [7 7 7 7]\n",
        " [8 8 8 8]\n",
        " [9 9 9 9]]\n"
       ]
      }
     ],
     "prompt_number": 56
    },
    {
     "cell_type": "code",
     "collapsed": false,
     "input": [
      "# another array creation technique\n",
      "# zeros_like makes a copy of an array,\n",
      "# but all the values are zero\n",
      "g = np.zeros_like(f)\n",
      "\n",
      "print g"
     ],
     "language": "python",
     "metadata": {},
     "outputs": [
      {
       "output_type": "stream",
       "stream": "stdout",
       "text": [
        "[[0 0 0 0]\n",
        " [0 0 0 0]\n",
        " [0 0 0 0]\n",
        " [0 0 0 0]\n",
        " [0 0 0 0]\n",
        " [0 0 0 0]\n",
        " [0 0 0 0]\n",
        " [0 0 0 0]\n",
        " [0 0 0 0]\n",
        " [0 0 0 0]]\n"
       ]
      }
     ],
     "prompt_number": 57
    },
    {
     "cell_type": "heading",
     "level": 3,
     "metadata": {},
     "source": [
      "Array Index and Slice Notation"
     ]
    },
    {
     "cell_type": "code",
     "collapsed": false,
     "input": [
      "# let's make a 2-dimensional array for this demo\n",
      "h = np.array([[0,1,2,3,4],\n",
      "              [5,6,7,8,9],\n",
      "              [10,11,12,13,14],\n",
      "              [15,16,17,18,19]])\n",
      "\n",
      "print h"
     ],
     "language": "python",
     "metadata": {},
     "outputs": [
      {
       "output_type": "stream",
       "stream": "stdout",
       "text": [
        "[[ 0  1  2  3  4]\n",
        " [ 5  6  7  8  9]\n",
        " [10 11 12 13 14]\n",
        " [15 16 17 18 19]]\n"
       ]
      }
     ],
     "prompt_number": 58
    },
    {
     "cell_type": "code",
     "collapsed": false,
     "input": [
      "# we can get a row\n",
      "print h[2]\n",
      "print \"\"  # blank line in output for extra space\n",
      "\n",
      "# we can get a specific column in a specific row\n",
      "# in other words, a specific cell\n",
      "print h[2, 1]\n",
      "print \"\"\n",
      "\n",
      "# we can get a range of columns in a specific row\n",
      "print h[2, 1:3]\n",
      "print \"\"\n",
      "\n",
      "# or we can get all the rows and all the columns\n",
      "# from a specific starting point until the end\n",
      "print h[2:, 2:]\n",
      "print \"\"\n",
      "\n",
      "# We can use negative indicies to get cells\n",
      "# in relation to their position from the end\n",
      "print h[-1, -1]\n",
      "print \"\"\n",
      "\n",
      "# we can use the same negative notation to\n",
      "# get a range of cells from a given position\n",
      "#from the end to the end\n",
      "print h[-2:, -3:]\n",
      "\n",
      "# many other operations are possible; mix and match as necessary"
     ],
     "language": "python",
     "metadata": {},
     "outputs": [
      {
       "output_type": "stream",
       "stream": "stdout",
       "text": [
        "[10 11 12 13 14]\n",
        "\n",
        "11\n",
        "\n",
        "[11 12]\n",
        "\n",
        "[[12 13 14]\n",
        " [17 18 19]]\n",
        "\n",
        "19\n",
        "\n",
        "[[12 13 14]\n",
        " [17 18 19]]\n"
       ]
      }
     ],
     "prompt_number": 59
    },
    {
     "cell_type": "code",
     "collapsed": false,
     "input": [
      "# a really bad way to iterate through\n",
      "# a numpy array used to demonstrate\n",
      "# indicies\n",
      "\n",
      "# we'll set all values in g to one if\n",
      "# f is greater than six\n",
      "for row in xrange(f.shape[0]):\n",
      "    for column in xrange(f.shape[1]):\n",
      "        if f[row, column] > 6:\n",
      "            g[row, column] = 1\n",
      "            \n",
      "print g"
     ],
     "language": "python",
     "metadata": {},
     "outputs": [
      {
       "output_type": "stream",
       "stream": "stdout",
       "text": [
        "[[0 0 0 0]\n",
        " [0 0 0 0]\n",
        " [1 1 1 1]\n",
        " [1 1 1 1]\n",
        " [1 1 1 1]\n",
        " [0 0 0 0]\n",
        " [0 0 0 0]\n",
        " [1 1 1 1]\n",
        " [1 1 1 1]\n",
        " [1 1 1 1]]\n"
       ]
      }
     ],
     "prompt_number": 60
    },
    {
     "cell_type": "heading",
     "level": 3,
     "metadata": {},
     "source": [
      "More Operations with Arrays"
     ]
    },
    {
     "cell_type": "code",
     "collapsed": false,
     "input": [
      "# here we can see array math\n",
      "# it's just like map algebra in arcpy\n",
      "j = f * g\n",
      "\n",
      "print j\n",
      "print j.size"
     ],
     "language": "python",
     "metadata": {},
     "outputs": [
      {
       "output_type": "stream",
       "stream": "stdout",
       "text": [
        "[[0 0 0 0]\n",
        " [0 0 0 0]\n",
        " [7 7 7 7]\n",
        " [8 8 8 8]\n",
        " [9 9 9 9]\n",
        " [0 0 0 0]\n",
        " [0 0 0 0]\n",
        " [7 7 7 7]\n",
        " [8 8 8 8]\n",
        " [9 9 9 9]]\n",
        "40\n"
       ]
      }
     ],
     "prompt_number": 61
    },
    {
     "cell_type": "code",
     "collapsed": false,
     "input": [
      "# some examples of reshaping an existing array\n",
      "# note that the size of the shape must be equal\n",
      "# to the current size of the array. That is, our\n",
      "# input has a size of 40, so all our shapes must\n",
      "# also have a shape of 40\n",
      "print j.reshape((40,))\n",
      "print \"\"\n",
      "print j.reshape((10,4))\n",
      "print \"\"\n",
      "print j.reshape((20,2))\n",
      "print \"\"\n",
      "print j.reshape((5, 8))\n",
      "print \"\"\n",
      "print j.reshape((2,2,10))\n",
      "print \"\"\n",
      "print j.reshape((1,1,40))"
     ],
     "language": "python",
     "metadata": {},
     "outputs": [
      {
       "output_type": "stream",
       "stream": "stdout",
       "text": [
        "[0 0 0 0 0 0 0 0 7 7 7 7 8 8 8 8 9 9 9 9 0 0 0 0 0 0 0 0 7 7 7 7 8 8 8 8 9\n",
        " 9 9 9]\n",
        "\n",
        "[[0 0 0 0]\n",
        " [0 0 0 0]\n",
        " [7 7 7 7]\n",
        " [8 8 8 8]\n",
        " [9 9 9 9]\n",
        " [0 0 0 0]\n",
        " [0 0 0 0]\n",
        " [7 7 7 7]\n",
        " [8 8 8 8]\n",
        " [9 9 9 9]]\n",
        "\n",
        "[[0 0]\n",
        " [0 0]\n",
        " [0 0]\n",
        " [0 0]\n",
        " [7 7]\n",
        " [7 7]\n",
        " [8 8]\n",
        " [8 8]\n",
        " [9 9]\n",
        " [9 9]\n",
        " [0 0]\n",
        " [0 0]\n",
        " [0 0]\n",
        " [0 0]\n",
        " [7 7]\n",
        " [7 7]\n",
        " [8 8]\n",
        " [8 8]\n",
        " [9 9]\n",
        " [9 9]]\n",
        "\n",
        "[[0 0 0 0 0 0 0 0]\n",
        " [7 7 7 7 8 8 8 8]\n",
        " [9 9 9 9 0 0 0 0]\n",
        " [0 0 0 0 7 7 7 7]\n",
        " [8 8 8 8 9 9 9 9]]\n",
        "\n",
        "[[[0 0 0 0 0 0 0 0 7 7]\n",
        "  [7 7 8 8 8 8 9 9 9 9]]\n",
        "\n",
        " [[0 0 0 0 0 0 0 0 7 7]\n",
        "  [7 7 8 8 8 8 9 9 9 9]]]\n",
        "\n",
        "[[[0 0 0 0 0 0 0 0 7 7 7 7 8 8 8 8 9 9 9 9 0 0 0 0 0 0 0 0 7 7 7 7 8 8 8 8\n",
        "   9 9 9 9]]]\n"
       ]
      }
     ],
     "prompt_number": 62
    },
    {
     "cell_type": "code",
     "collapsed": false,
     "input": [
      "# squeeze will get rid of any dimensions\n",
      "# that are empty\n",
      "print np.squeeze(j.reshape((1,1,40)))"
     ],
     "language": "python",
     "metadata": {},
     "outputs": [
      {
       "output_type": "stream",
       "stream": "stdout",
       "text": [
        "[0 0 0 0 0 0 0 0 7 7 7 7 8 8 8 8 9 9 9 9 0 0 0 0 0 0 0 0 7 7 7 7 8 8 8 8 9\n",
        " 9 9 9]\n"
       ]
      }
     ],
     "prompt_number": 63
    },
    {
     "cell_type": "code",
     "collapsed": false,
     "input": [
      "# note that many numpy functions are available\n",
      "# as standalone functions, or as methods on an\n",
      "# existing array\n",
      "print j.reshape((1,1,40)).squeeze()"
     ],
     "language": "python",
     "metadata": {},
     "outputs": [
      {
       "output_type": "stream",
       "stream": "stdout",
       "text": [
        "[0 0 0 0 0 0 0 0 7 7 7 7 8 8 8 8 9 9 9 9 0 0 0 0 0 0 0 0 7 7 7 7 8 8 8 8 9\n",
        " 9 9 9]\n"
       ]
      }
     ],
     "prompt_number": 64
    },
    {
     "cell_type": "code",
     "collapsed": false,
     "input": [
      "# remember our bad iteration example earlier?\n",
      "# we could have just done this\n",
      "k = f > 6\n",
      "\n",
      "# note that the output has a datatype\n",
      "# of bool, but that False is just a fancy\n",
      "# way to represent 0 and True is just a\n",
      "# fancy 1\n",
      "print k"
     ],
     "language": "python",
     "metadata": {},
     "outputs": [
      {
       "output_type": "stream",
       "stream": "stdout",
       "text": [
        "[[False False False False]\n",
        " [False False False False]\n",
        " [ True  True  True  True]\n",
        " [ True  True  True  True]\n",
        " [ True  True  True  True]\n",
        " [False False False False]\n",
        " [False False False False]\n",
        " [ True  True  True  True]\n",
        " [ True  True  True  True]\n",
        " [ True  True  True  True]]\n"
       ]
      }
     ],
     "prompt_number": 65
    },
    {
     "cell_type": "code",
     "collapsed": false,
     "input": [
      "# we can even multiply by our bool\n",
      "# array as the bool values are really\n",
      "# just numbers\n",
      "# see that the result is the same as before\n",
      "print k * f"
     ],
     "language": "python",
     "metadata": {},
     "outputs": [
      {
       "output_type": "stream",
       "stream": "stdout",
       "text": [
        "[[0 0 0 0]\n",
        " [0 0 0 0]\n",
        " [7 7 7 7]\n",
        " [8 8 8 8]\n",
        " [9 9 9 9]\n",
        " [0 0 0 0]\n",
        " [0 0 0 0]\n",
        " [7 7 7 7]\n",
        " [8 8 8 8]\n",
        " [9 9 9 9]]\n"
       ]
      }
     ],
     "prompt_number": 66
    },
    {
     "cell_type": "code",
     "collapsed": false,
     "input": [
      "# we can use arrays to do some cool things\n",
      "# want to know the mean of all the numbers\n",
      "# in a list? Make the list an array. This\n",
      "# operation works to average not just single-\n",
      "# dimensional arrays, but arrays of any shape\n",
      "print j.mean()\n",
      "# can find the sum too, as well as many other\n",
      "# things; see the docs for more\n",
      "print j.sum()\n",
      "# for spacing\n",
      "print \"\"\n",
      "\n",
      "# we can do the same operation, but also specify\n",
      "# an axis along which to perform the operation\n",
      "print j.mean(0)\n",
      "print j.sum(0)\n",
      "print \"\"\n",
      "\n",
      "# same thing but different axis\n",
      "print j.mean(1)\n",
      "print j.sum(1)"
     ],
     "language": "python",
     "metadata": {},
     "outputs": [
      {
       "output_type": "stream",
       "stream": "stdout",
       "text": [
        "4.8\n",
        "192\n",
        "\n",
        "[ 4.8  4.8  4.8  4.8]\n",
        "[48 48 48 48]\n",
        "\n",
        "[ 0.  0.  7.  8.  9.  0.  0.  7.  8.  9.]\n",
        "[ 0  0 28 32 36  0  0 28 32 36]\n"
       ]
      }
     ],
     "prompt_number": 67
    },
    {
     "cell_type": "code",
     "collapsed": false,
     "input": [
      "    "
     ],
     "language": "python",
     "metadata": {},
     "outputs": [],
     "prompt_number": 67
    }
   ],
   "metadata": {}
  }
 ]
}