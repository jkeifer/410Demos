{
 "metadata": {
  "name": "",
  "signature": "sha256:57f02fcecf7dc420b132c26ca11b8b26a95d9d3fd4a6098f6cddc3c07ac69099"
 },
 "nbformat": 3,
 "nbformat_minor": 0,
 "worksheets": [
  {
   "cells": [
    {
     "cell_type": "heading",
     "level": 1,
     "metadata": {},
     "source": [
      "datetime Module"
     ]
    },
    {
     "cell_type": "heading",
     "level": 3,
     "metadata": {},
     "source": [
      "Imports and Constants"
     ]
    },
    {
     "cell_type": "code",
     "collapsed": false,
     "input": [
      "import os\n",
      "import datetime\n",
      "import arcpy\n",
      "\n",
      "COUNTIES = r\"I:\\Research\\samba\\gisdata\\World\\ESRI World Data Set\\usa\\census\\counties.shp\"\n",
      "#COUNTIES = r\"E:\\4-510\\Demos\\Demo2\\data\\counties.shp\"\n",
      "NEW_FC = r\"E:\\4-510\\Demos\\random.shp\""
     ],
     "language": "python",
     "metadata": {},
     "outputs": [],
     "prompt_number": 49
    },
    {
     "cell_type": "heading",
     "level": 2,
     "metadata": {},
     "source": [
      "Make some datetime Instances"
     ]
    },
    {
     "cell_type": "code",
     "collapsed": false,
     "input": [
      "then = datetime.datetime.now()\n",
      "print then"
     ],
     "language": "python",
     "metadata": {},
     "outputs": [
      {
       "output_type": "stream",
       "stream": "stdout",
       "text": [
        "2015-01-29 10:23:51.723000\n"
       ]
      }
     ],
     "prompt_number": 16
    },
    {
     "cell_type": "code",
     "collapsed": false,
     "input": [
      "now = datetime.datetime.now()\n",
      "print now"
     ],
     "language": "python",
     "metadata": {},
     "outputs": [
      {
       "output_type": "stream",
       "stream": "stdout",
       "text": [
        "2015-01-29 10:24:23.147000\n"
       ]
      }
     ],
     "prompt_number": 17
    },
    {
     "cell_type": "heading",
     "level": 3,
     "metadata": {},
     "source": [
      "Timedelta Objects"
     ]
    },
    {
     "cell_type": "code",
     "collapsed": false,
     "input": [
      "timediff = now - then\n",
      "print timediff"
     ],
     "language": "python",
     "metadata": {},
     "outputs": [
      {
       "output_type": "stream",
       "stream": "stdout",
       "text": [
        "0:00:31.424000\n"
       ]
      }
     ],
     "prompt_number": 45
    },
    {
     "cell_type": "code",
     "collapsed": false,
     "input": [
      "timediff"
     ],
     "language": "python",
     "metadata": {},
     "outputs": [
      {
       "metadata": {},
       "output_type": "pyout",
       "prompt_number": 12,
       "text": [
        "datetime.timedelta(0, 12, 474000)"
       ]
      }
     ],
     "prompt_number": 12
    },
    {
     "cell_type": "code",
     "collapsed": false,
     "input": [
      "timedelta = datetime.timedelta(1)\n",
      "print timedelta"
     ],
     "language": "python",
     "metadata": {},
     "outputs": [
      {
       "output_type": "stream",
       "stream": "stdout",
       "text": [
        "1 day, 0:00:00\n"
       ]
      }
     ],
     "prompt_number": 13
    },
    {
     "cell_type": "code",
     "collapsed": false,
     "input": [
      "print now + timedelta"
     ],
     "language": "python",
     "metadata": {},
     "outputs": [
      {
       "output_type": "stream",
       "stream": "stdout",
       "text": [
        "2015-01-30 10:23:19.531000\n"
       ]
      }
     ],
     "prompt_number": 14
    },
    {
     "cell_type": "heading",
     "level": 2,
     "metadata": {},
     "source": [
      "Using datetime with ArcGIS date fields"
     ]
    },
    {
     "cell_type": "markdown",
     "metadata": {},
     "source": [
      "We are going to build a tool that takes an arcpy extent object, and generates random points within that extent. We will write the creation date and time to a field in the output feature class. To begin, we need to write a function that will generate our random coordinates given the extent coordinates. Then, we can write a function to create the feature class and call the random coordinate generator for the given number of points, writing each to the feature class with the datetime."
     ]
    },
    {
     "cell_type": "heading",
     "level": 3,
     "metadata": {},
     "source": [
      "Generate Random Coordinates Within a Range"
     ]
    },
    {
     "cell_type": "code",
     "collapsed": false,
     "input": [
      "def generate_random_coordinate(min, max):\n",
      "    \"\"\"Creates a random coordinate between two\n",
      "    min and max coordinates.\n",
      "    \"\"\"\n",
      "    from random import randint, random\n",
      "    from math import floor\n",
      "    \n",
      "    while True:\n",
      "        whole = randint(floor(min), floor(max))\n",
      "        part = random()\n",
      "        coord = whole + part\n",
      "        \n",
      "        if coord >= min and coord <= max:\n",
      "            return coord\n",
      "\n",
      "# test the function by running it ten times\n",
      "randomcoords = [generate_random_coordinate(423.2323,654.654354) for i in xrange(10)]\n",
      "print randomcoords"
     ],
     "language": "python",
     "metadata": {},
     "outputs": [
      {
       "output_type": "stream",
       "stream": "stdout",
       "text": [
        "[501.52633346911557, 548.1376377428494, 650.4234776528004, 580.0536573370192, 491.9709117656205, 458.1944138077696, 547.1058132328126, 428.50077903720097, 517.7562683984133, 594.9871177547759]\n"
       ]
      }
     ],
     "prompt_number": 24
    },
    {
     "cell_type": "heading",
     "level": 3,
     "metadata": {},
     "source": [
      "Our Random Points Function"
     ]
    },
    {
     "cell_type": "code",
     "collapsed": false,
     "input": [
      "def random_points_within_extent(outputfc, extentobject, numberofpoints, spatial_reference=None):\n",
      "    \"\"\"Using an arcpy extent instance, generate\n",
      "    random points within that extent and write\n",
      "    to a feature class with the create date and\n",
      "    time for each point.\n",
      "    \"\"\"\n",
      "    # if no sr supplied, use extent sr\n",
      "    if not spatial_reference:\n",
      "        spatial_reference = extentobject.spatialReference\n",
      "    else:\n",
      "        # user supplied a different CRS for the output fc then reproject extent\n",
      "        extentobject = extentobject.projectAs(spatial_reference)\n",
      "        \n",
      "    fc = arcpy.CreateFeatureclass_management(os.path.dirname(outputfc),\n",
      "                                             os.path.basename(outputfc),\n",
      "                                             \"POINT\",\n",
      "                                             spatial_reference=spatial_reference)\n",
      "    fieldname = \"CREATED\"\n",
      "    arcpy.AddField_management(fc, fieldname, \"DATE\", field_is_required=True)\n",
      "    \n",
      "    # use an insert cursor to insert points\n",
      "    with arcpy.da.InsertCursor(fc, [\"SHAPE@XY\", fieldname]) as cursor:\n",
      "        for i in xrange(numberofpoints):\n",
      "            x_coord = generate_random_coordinate(extentobject.XMin, extentobject.XMax)\n",
      "            y_coord = generate_random_coordinate(extentobject.YMin, extentobject.YMax)\n",
      "            coords = (x_coord, y_coord)\n",
      "            cursor.insertRow((coords, datetime.datetime.now()))\n",
      "        \n",
      "    return fc"
     ],
     "language": "python",
     "metadata": {},
     "outputs": [],
     "prompt_number": 52
    },
    {
     "cell_type": "heading",
     "level": 3,
     "metadata": {},
     "source": [
      "Testing"
     ]
    },
    {
     "cell_type": "code",
     "collapsed": false,
     "input": [
      "# for testing repeatedly\n",
      "arcpy.env.overwriteOutput = True\n",
      "\n",
      "# need an extent, so why not Multnomah County\n",
      "multnomah_county = [cnty[0] for cnty in arcpy.da.SearchCursor(COUNTIES, [\"SHAPE@\"], \"NAME = 'Multnomah'\")][0]\n",
      "\n",
      "# now we can test\n",
      "random_points_within_extent(NEW_FC, multnomah_county.extent, 250, arcpy.SpatialReference(2913))"
     ],
     "language": "python",
     "metadata": {},
     "outputs": [
      {
       "metadata": {},
       "output_type": "pyout",
       "prompt_number": 51,
       "text": [
        "<Result 'E:\\\\4-510\\\\Demos\\\\random3.shp'>"
       ]
      }
     ],
     "prompt_number": 51
    },
    {
     "cell_type": "markdown",
     "metadata": {},
     "source": [
      "You can test this yourself with your own data if your are not on campus. Just supply the random_points_within_extent function with any extent from any geometry object or feature class. Play around with the spatial reference and point count, and let me know if you find any bugs. I do know that for some reason the insert cursor is only putting in the date and not the time, but I do not have the time to figure out that issue right now. For what it's worth, it seems like an ESRI bug, as the insert cursor docs have a similar example of adding the date directly in the insert row method of the cursor using `datetime.datetime.now()`."
     ]
    }
   ],
   "metadata": {}
  }
 ]
}