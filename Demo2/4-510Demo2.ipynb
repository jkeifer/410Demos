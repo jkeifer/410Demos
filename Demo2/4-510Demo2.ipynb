{
 "metadata": {
  "name": "",
  "signature": "sha256:5bfbfaca5ee1b98225bc3fcb0ffdb226cc5b7c3c635e77c5fb4c8b96d5243fa2"
 },
 "nbformat": 3,
 "nbformat_minor": 0,
 "worksheets": [
  {
   "cells": [
    {
     "cell_type": "heading",
     "level": 1,
     "metadata": {},
     "source": [
      "Using arcpy Data Access cursors to access and edit feature class attributes"
     ]
    },
    {
     "cell_type": "heading",
     "level": 2,
     "metadata": {},
     "source": [
      "Let's setup our project"
     ]
    },
    {
     "cell_type": "code",
     "collapsed": false,
     "input": [
      "import os\n",
      "import arcpy\n",
      "\n",
      "# set paths to feature classes (accessible on the PSU network)\n",
      "VOLCANOES = r\"I:\\Research\\samba\\gisdata\\World\\ESRI World Data Set\\usa\\other\\volcano.shp\"\n",
      "AIRPORTS = r\"I:\\Research\\samba\\gisdata\\World\\ESRI World Data Set\\usa\\other\\airports.shp\"\n",
      "COUNTIES = r\"I:\\Research\\samba\\gisdata\\World\\ESRI World Data Set\\usa\\census\\counties.shp\"\n",
      "\n",
      "# we will create a copy of counties to our local storage\n",
      "# make sure to put in your own path, not this one!\n",
      "NEW_COUNTIES = r\"E:\\4-510\\Demos\\Demo2\\data\\counties_mod.shp\""
     ],
     "language": "python",
     "metadata": {},
     "outputs": [],
     "prompt_number": 8
    },
    {
     "cell_type": "code",
     "collapsed": false,
     "input": [
      "arcpy.CopyFeatures_management(COUNTIES, NEW_COUNTIES)"
     ],
     "language": "python",
     "metadata": {},
     "outputs": [
      {
       "metadata": {},
       "output_type": "pyout",
       "prompt_number": 2,
       "text": [
        "<Result 'E:\\\\4-510\\\\Demos\\\\Demo2\\\\data\\\\counties_mod.shp'>"
       ]
      }
     ],
     "prompt_number": 2
    },
    {
     "cell_type": "heading",
     "level": 3,
     "metadata": {},
     "source": [
      "What data do we have?"
     ]
    },
    {
     "cell_type": "markdown",
     "metadata": {},
     "source": [
      "Let's take a look at the fields in each of these feature classes to see what type of data we can expect to work with. Perhaps then we can get some ideas of what we want to query."
     ]
    },
    {
     "cell_type": "code",
     "collapsed": false,
     "input": [
      "inputfcs = [VOLCANOES, AIRPORTS, NEW_COUNTIES]\n",
      "\n",
      "for fc in inputfcs:\n",
      "    print \"Fields in {}:\".format(os.path.splitext(os.path.basename(fc))[0])\n",
      "    for field in arcpy.ListFields(fc):\n",
      "        print \"    {}  ({})\".format(field.name, field.type)\n",
      "    print \"\"  # just a blank line between FCs"
     ],
     "language": "python",
     "metadata": {},
     "outputs": [
      {
       "output_type": "stream",
       "stream": "stdout",
       "text": [
        "Fields in volcanoes:\n",
        "    FID  (OID)\n",
        "    Shape  (Geometry)\n",
        "    STATE  (String)\n",
        "    NUMBER  (String)\n",
        "    NAME  (String)\n",
        "    ELEVATION  (Integer)\n",
        "    TYPE  (String)\n",
        "    STATUS  (String)\n",
        "    TIME_CODE  (String)\n",
        "    KNOWN_ERUP  (SmallInteger)\n",
        "    MAX_VEI  (SmallInteger)\n",
        "\n",
        "Fields in airports:\n",
        "    FID  (OID)\n",
        "    Shape  (Geometry)\n",
        "    LOCID  (String)\n",
        "    NAME  (String)\n",
        "    STATE  (String)\n",
        "    STATE_FIPS  (String)\n",
        "    ACAIS  (String)\n",
        "    TOT_ENP  (Double)\n",
        "\n",
        "Fields in counties_mod:\n",
        "    FID  (OID)"
       ]
      },
      {
       "output_type": "stream",
       "stream": "stdout",
       "text": [
        "\n",
        "    Shape  (Geometry)\n",
        "    NAME  (String)\n",
        "    STATE_NAME  (String)\n",
        "    STATE_FIPS  (String)\n",
        "    CNTY_FIPS  (String)\n",
        "    FIPS  (String)\n",
        "    AREA  (Double)\n",
        "    POP2000  (Integer)\n",
        "    POP2001  (Double)\n",
        "    POP00_SQMI  (Double)\n",
        "    WHITE  (Integer)\n",
        "    BLACK  (Integer)\n",
        "    AMERI_ES  (Integer)\n",
        "    ASIAN  (Integer)\n",
        "    HAWN_PI  (Integer)\n",
        "    OTHER  (Integer)\n",
        "    MULT_RACE  (Integer)\n",
        "    HISPANIC  (Integer)\n",
        "    MALES  (Integer)\n",
        "    FEMALES  (Integer)\n",
        "    AGE_UNDER5  (Integer)\n",
        "    AGE_5_17  (Integer)\n",
        "    AGE_18_21  (Integer)\n",
        "    AGE_22_29  (Integer)\n",
        "    AGE_30_39  (Integer)\n",
        "    AGE_40_49  (Integer)\n",
        "    AGE_50_64  (Integer)\n",
        "    AGE_65_UP  (Integer)\n",
        "    MED_AGE  (Double)\n",
        "    MED_AGE_M  (Double)\n",
        "    MED_AGE_F  (Double)\n",
        "    HOUSEHOLDS  (Integer)\n",
        "    AVE_HH_SZ  (Double)\n",
        "    HSEHLD_1_M  (Integer)\n",
        "    HSEHLD_1_F  (Integer)\n",
        "    MARHH_CHD  (Integer)\n",
        "    MARHH_NO_C  (Integer)\n",
        "    MHH_CHILD  (Integer)\n",
        "    FHH_CHILD  (Integer)\n",
        "    FAMILIES  (Integer)\n",
        "    AVE_FAM_SZ  (Double)\n",
        "    HSE_UNITS  (Integer)\n",
        "    VACANT  (Integer)\n",
        "    OWNER_OCC  (Integer)\n",
        "    RENTER_OCC  (Integer)\n",
        "    NO_FARMS97  (Double)\n",
        "    AVG_SIZE97  (Double)\n",
        "    CROP_ACR97  (Double)\n",
        "    AVG_SALE97  (Double)\n",
        "\n"
       ]
      }
     ],
     "prompt_number": 7
    },
    {
     "cell_type": "heading",
     "level": 2,
     "metadata": {},
     "source": [
      "Now we can start working with cursors"
     ]
    },
    {
     "cell_type": "heading",
     "level": 3,
     "metadata": {},
     "source": [
      "Creating a cursor"
     ]
    },
    {
     "cell_type": "code",
     "collapsed": false,
     "input": [
      "# get list of field names in VOLCANOES, without the Shape or MAX_VEI fields\n",
      "fields = [f.name for f in arcpy.ListFields(VOLCANOES) if f.name != \"Shape\" and f.name != \"MAX_VEI\"]\n",
      "\n",
      "# print out field names header\n",
      "for field in fields:\n",
      "    # print with a width of 14 for each field\n",
      "    print \"{:<14}\".format(field),\n",
      "print \"\"  # comma prevents finishing line; need to add a line break\n",
      "\n",
      "# create a search cursor to return all volcanoes in Oregon\n",
      "with arcpy.da.SearchCursor(VOLCANOES, fields, \"STATE = 'OR'\") as cursor:\n",
      "    # count records returned\n",
      "    volcanocount = 0\n",
      "    # print each row\n",
      "    for row in cursor:\n",
      "        volcanocount += 1\n",
      "        for datum in row:\n",
      "            print \"{:<14}\".format(datum),\n",
      "        print \"\"\n",
      "    print \"Found {} volcanoes in Oregon.\".format(volcanocount)"
     ],
     "language": "python",
     "metadata": {},
     "outputs": [
      {
       "output_type": "stream",
       "stream": "stdout",
       "text": [
        "FID            STATE          NUMBER         NAME           ELEVATION      TYPE           STATUS         TIME_CODE      KNOWN_ERUP     \n",
        "100            OR             1202-01-       Hood           3426           Stratovolcano  Historical     D3             9              \n",
        "101            OR             1202-02-       Jefferson      3199           Stratovolcano  Varve Count    D6             2              \n",
        "102            OR             1202-03-       Blue Lake Crater 1230           Maar           Radiocarbon    D7             1              \n",
        "103            OR             1202-04-       Sand Mountain Field 1664           Cinder cones   Radiocarbon    D7             4              \n",
        "104            OR             1202-05-       Washington     2376           Shield volcano Radiocarbon    D6             1              \n",
        "105            OR             1202-06-       Belknap        2095           Shield volcanoes Radiocarbon    D6             5              \n",
        "106            OR             1202-07-       North Sister Field 3074           Complex volcano Radiocarbon    D6             4              \n",
        "107            OR             1202-08-       South Sister   3157           Complex volcano Radiocarbon    D7             2              \n",
        "108            OR             1202-09-       Bachelor       2763           Stratovolcano  Tephrochronology D7             1              \n",
        "109            OR             1202-11-       Newberry Volcano 2434           Shield volcano Radiocarbon    D6             11             \n",
        "110            OR             1202-10-       Davis Lake     2163           Volcanic field Radiocarbon    D7             1              \n",
        "111            OR             1202-12-       Devils Garden  -99999         Volcanic field Holocene?      ?              -999           \n",
        "112            OR             1202-15-       Cinnamon Butte 1956           Cinder cones   Holocene?      ?              0              \n",
        "113            OR             1202-13-       Squaw Ridge Field 1711           Volcanic field Holocene?      ?              0              \n",
        "114            OR             1202-14-       Four Craters Lava Field 1501           Volcanic field Holocene?      ?              0              \n",
        "115            OR             1202-16-       Crater Lake    2487           Caldera        Radiocarbon    D7             4              \n",
        "118            OR             1202-161       Imagination Peak 1986           Pyroclastic cone Holocene?      ?              0              \n",
        "119            OR             1202-17-       Diamond Craters 1435           Volcanic field Holocene?      ?              0              \n",
        "120            OR             1202-18-       Saddle Butte   1700           Volcanic field Holocene?      ?              0              \n",
        "121            OR             1202-19-       Jordan Craters 1473           Volcanic field Holocene       U              0              \n",
        "125            OR             1202-20-       Jackies Butte  1420           Volcanic field Holocene?      ?              0              \n",
        "Found 21 volcanoes in Oregon.\n"
       ]
      }
     ],
     "prompt_number": 43
    },
    {
     "cell_type": "heading",
     "level": 3,
     "metadata": {},
     "source": [
      "Let's do some math"
     ]
    },
    {
     "cell_type": "code",
     "collapsed": false,
     "input": [
      "with arcpy.da.SearchCursor(VOLCANOES, [\"ELEVATION\"], \"STATE = 'OR'\") as cursor:\n",
      "    # count records returned\n",
      "    totalelevation = 0\n",
      "    # print each row\n",
      "    for row in cursor:\n",
      "        if row[0] > 0:\n",
      "            # we use row[0] to get the first field in the returned row,\n",
      "            # which we know is elevation\n",
      "            totalelevation += row[0]\n",
      "    print \"The total elevation of Oregon's volcanoes is {} meters!\".format(totalelevation)\n",
      "    print \"(That's {} feet for you yankees.)\".format((totalelevation * 100/2.54))"
     ],
     "language": "python",
     "metadata": {},
     "outputs": [
      {
       "output_type": "stream",
       "stream": "stdout",
       "text": [
        "The total elevation of Oregon's volcanoes is 43250 meters!\n",
        "(That's 1702755.90551 feet for you yankees.)\n"
       ]
      }
     ],
     "prompt_number": 44
    },
    {
     "cell_type": "heading",
     "level": 3,
     "metadata": {},
     "source": [
      "What types of volcanoes occurr in the US?"
     ]
    },
    {
     "cell_type": "code",
     "collapsed": false,
     "input": [
      "volcanotypes = set()\n",
      "\n",
      "with arcpy.da.SearchCursor(VOLCANOES, [\"TYPE\"]) as cursor:\n",
      "    for row in cursor:\n",
      "        volcanotypes.add(row[0])\n",
      "        \n",
      "for type in volcanotypes:\n",
      "    print \"{}, \".format(type),"
     ],
     "language": "python",
     "metadata": {},
     "outputs": [
      {
       "output_type": "stream",
       "stream": "stdout",
       "text": [
        "Stratovolcano,  Lava domes,  Cinder cone,  Complex volcano,  Shield volcanoes,  Volcanic field      H,  Unknown,  Submarine volcano ?,  Submarine volcano,  Fissure vents,  Shield volcano,  Volcanic field,  Calderas,  Tuff rings,  Maars,  Caldera,  Stratovolcanoes,  Maar,  Pyroclastic cone,  Lava dome,  Cinder cones, \n"
       ]
      }
     ],
     "prompt_number": 63
    },
    {
     "cell_type": "heading",
     "level": 3,
     "metadata": {},
     "source": [
      "We can do some statistics: How many airports are in each state?"
     ]
    },
    {
     "cell_type": "markdown",
     "metadata": {},
     "source": [
      "Side note: if you don't know about it, check out [the collections module](https://docs.python.org/2/library/collections.html)."
     ]
    },
    {
     "cell_type": "code",
     "collapsed": false,
     "input": [
      "import collections\n",
      "\n",
      "airportcounter = collections.Counter()\n",
      "\n",
      "with arcpy.da.SearchCursor(AIRPORTS, [\"STATE\"]) as cursor:\n",
      "    for row in cursor:\n",
      "        airportcounter[row[0]] += 1\n",
      "        \n",
      "print \"The following is a list of airport counts by state:\"\n",
      "for state, count in sorted(airportcounter.iteritems()):\n",
      "    print \"{}: {}\".format(state, count)"
     ],
     "language": "python",
     "metadata": {},
     "outputs": [
      {
       "output_type": "stream",
       "stream": "stdout",
       "text": [
        "The following is a list of airport counts by state:\n",
        "Alabama: 9\n",
        "Alaska: 222\n",
        "Arizona: 20\n",
        "Arkansas: 13\n",
        "California: 53\n",
        "Colorado: 17\n",
        "Connecticut: 7\n",
        "Delaware: 1\n",
        "Florida: 31\n",
        "Georgia: 13\n",
        "Hawaii: 12\n",
        "Idaho: 9\n",
        "Illinois: 21\n",
        "Indiana: 9\n",
        "Iowa: 10\n",
        "Kansas: 12\n",
        "Kentucky: 8\n",
        "Louisiana: 12\n",
        "Maine: 11\n",
        "Maryland: 5\n",
        "Massachusetts: 9\n",
        "Michigan: 26\n",
        "Minnesota: 14\n",
        "Mississippi: 8\n",
        "Missouri: 13\n",
        "Montana: 17\n",
        "Nebraska: 11\n",
        "Nevada: 10\n",
        "New Hampshire: 3\n",
        "New Jersey: 7\n",
        "New Mexico: 14\n",
        "New York: 27\n",
        "North Carolina: 18\n",
        "North Dakota: 8\n",
        "Ohio: 20\n",
        "Oklahoma: 7\n",
        "Oregon: 13\n",
        "Pennsylvania: 22\n",
        "Puerto Rico: 9\n",
        "Rhode Island: 3\n",
        "South Carolina: 10\n",
        "South Dakota: 8\n",
        "Tennessee: 8\n",
        "Texas: 38\n",
        "Utah: 7\n",
        "Vermont: 2\n",
        "Virgin Islands: 2\n",
        "Virginia: 11\n",
        "Washington: 26\n",
        "West Virginia: 9\n",
        "Wisconsin: 14\n",
        "Wyoming: 12\n"
       ]
      }
     ],
     "prompt_number": 45
    },
    {
     "cell_type": "code",
     "collapsed": false,
     "input": [
      "print \"The five states with the highest airport counts are:\"\n",
      "rank = 1\n",
      "for state, count in airportcounter.most_common(5):\n",
      "    print \"{}) {}: {}\".format(rank, state, count)\n",
      "    rank += 1"
     ],
     "language": "python",
     "metadata": {},
     "outputs": [
      {
       "output_type": "stream",
       "stream": "stdout",
       "text": [
        "The five states with the highest airport counts are:\n",
        "1) Alaska: 222\n",
        "2) California: 53\n",
        "3) Texas: 38\n",
        "4) Florida: 31\n",
        "5) New York: 27\n"
       ]
      }
     ],
     "prompt_number": 49
    },
    {
     "cell_type": "heading",
     "level": 3,
     "metadata": {},
     "source": [
      "What airports are in Tennessee and Kentucky?"
     ]
    },
    {
     "cell_type": "code",
     "collapsed": false,
     "input": [
      "airportdict = {}\n",
      "\n",
      "with arcpy.da.SearchCursor(AIRPORTS, [\"STATE\", \"LOCID\"], \"STATE = 'Tennessee' OR STATE = 'Kentucky'\") as cursor:\n",
      "    for row in cursor:\n",
      "        try:\n",
      "            airportdict[row[0]] = airportdict[row[0]] + [row[1]]\n",
      "        except KeyError:\n",
      "            airportdict[row[0]] = [row[1]]\n",
      "\n",
      "for state, airport in airportdict.iteritems():\n",
      "    print \"{} has the airports {}.\".format(state, airport)"
     ],
     "language": "python",
     "metadata": {},
     "outputs": [
      {
       "output_type": "stream",
       "stream": "stdout",
       "text": [
        "Tennessee has the airports [u'MEM', u'MKL', u'LUG', u'CHA', u'MQY', u'BNA', u'TYS', u'TRI'].\n",
        "Kentucky has the airports [u'HOP', u'PAH', u'2I0', u'OWB', u'BWG', u'SDF', u'LEX', u'CVG'].\n"
       ]
      }
     ],
     "prompt_number": 54
    },
    {
     "cell_type": "heading",
     "level": 3,
     "metadata": {},
     "source": [
      "How about modifying a feature class?"
     ]
    },
    {
     "cell_type": "code",
     "collapsed": false,
     "input": [
      "# let's add a field to our copied counties FC\n",
      "FIELD = \"PRCT_MINOR\"\n",
      "arcpy.AddField_management(NEW_COUNTIES, FIELD, \"DOUBLE\")"
     ],
     "language": "python",
     "metadata": {},
     "outputs": [
      {
       "metadata": {},
       "output_type": "pyout",
       "prompt_number": 61,
       "text": [
        "<Result 'E:\\\\4-510\\\\Demos\\\\Demo2\\\\data\\\\counties_mod.shp'>"
       ]
      }
     ],
     "prompt_number": 61
    },
    {
     "cell_type": "code",
     "collapsed": false,
     "input": [
      "# we need to create a list of all the fields we need to access\n",
      "fields = [FIELD, \"POP2000\", \"AGE_UNDER5\", \"AGE_5_17\", \"AGE_18_21\", \"NAME\", \"STATE_NAME\"]\n",
      "\n",
      "# for fun, let's also store our results in a dict by county and state\n",
      "percentminordict = {}\n",
      "\n",
      "# now we can use an update cursor to calculate the value of the field\n",
      "with arcpy.da.UpdateCursor(NEW_COUNTIES, fields) as cursor:\n",
      "    for row in cursor:\n",
      "        #watch out for integer division!!!!!!!!\n",
      "        percentminor = float(row[2] + row[3] + row[4])/row[1]\n",
      "        row[0] = percentminor\n",
      "        percentminordict[row[5] + \", \" + row[6]] = percentminor\n",
      "        cursor.updateRow(row)\n",
      "        \n",
      "for count, percenttuple in enumerate(percentminordict.iteritems()):\n",
      "    # unpack the tuple into county and percent minor\n",
      "    county, percent = percenttuple\n",
      "    print \"{}: {}\".format(county, percent)\n",
      "    # only print the first 10 items\n",
      "    if count >= 10:\n",
      "        break\n",
      "        \n",
      "# we could also have used a counter here, += the percent minor,\n",
      "# then displaying the top 10 by percent minor would have been\n",
      "# easy. (See the airport count example above.)"
     ],
     "language": "python",
     "metadata": {},
     "outputs": [
      {
       "output_type": "stream",
       "stream": "stdout",
       "text": [
        "Ochiltree, Texas: 0.353986231401\n",
        "Valdez-Cordova, Alaska: 0.339087788131\n",
        "Grant, Oregon: 0.294013862634\n",
        "Mille Lacs, Minnesota: 0.31683833408\n",
        "Bryan, Oklahoma: 0.320167515191\n",
        "Florence, Wisconsin: 0.264544025157\n",
        "Morgan, Indiana: 0.319213063624\n",
        "Alamance, North Carolina: 0.298983180428\n",
        "Orange, Texas: 0.326542381659\n",
        "Maverick, Texas: 0.425544960568\n",
        "Piatt, Illinois: 0.294897647418\n"
       ]
      }
     ],
     "prompt_number": 65
    },
    {
     "cell_type": "code",
     "collapsed": false,
     "input": [],
     "language": "python",
     "metadata": {},
     "outputs": []
    }
   ],
   "metadata": {}
  }
 ]
}