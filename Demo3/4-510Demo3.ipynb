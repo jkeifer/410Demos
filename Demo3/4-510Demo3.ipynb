{
 "metadata": {
  "name": "",
  "signature": "sha256:234a5b295766923f1414de17cda929760cc832fb325b47d3ea0e0f1e05cb0f6e"
 },
 "nbformat": 3,
 "nbformat_minor": 0,
 "worksheets": [
  {
   "cells": [
    {
     "cell_type": "heading",
     "level": 1,
     "metadata": {},
     "source": [
      "Using acrpy Cursors and Geometry Objects"
     ]
    },
    {
     "cell_type": "heading",
     "level": 2,
     "metadata": {},
     "source": [
      "Setup"
     ]
    },
    {
     "cell_type": "code",
     "collapsed": false,
     "input": [
      "import os\n",
      "import arcpy\n",
      "\n",
      "# set paths to feature classes (accessible on the PSU network)\n",
      "VOLCANOES = r\"I:\\Research\\samba\\gisdata\\World\\ESRI World Data Set\\usa\\other\\volcano.shp\"\n",
      "AIRPORTS = r\"I:\\Research\\samba\\gisdata\\World\\ESRI World Data Set\\usa\\other\\airports.shp\"\n",
      "COUNTIES = r\"I:\\Research\\samba\\gisdata\\World\\ESRI World Data Set\\usa\\census\\counties.shp\"\n",
      "\n",
      "VOLCANOES = r\"E:\\4-510\\Demos\\Demo2\\data\\volcanoes.shp\"\n",
      "AIRPORTS = r\"E:\\4-510\\Demos\\Demo2\\data\\airports.shp\"\n",
      "COUNTIES = r\"E:\\4-510\\Demos\\Demo2\\data\\counties.shp\"\n",
      "\n",
      "# we'll also need a coordinate reference system\n",
      "CRS = arcpy.SpatialReference(2913)"
     ],
     "language": "python",
     "metadata": {},
     "outputs": [],
     "prompt_number": 17
    },
    {
     "cell_type": "heading",
     "level": 2,
     "metadata": {},
     "source": [
      "Introduction to Geometry Objects"
     ]
    },
    {
     "cell_type": "heading",
     "level": 3,
     "metadata": {},
     "source": [
      "Creating a PointGeometry Object"
     ]
    },
    {
     "cell_type": "code",
     "collapsed": false,
     "input": [
      "point = arcpy.Point(3, 2)\n",
      "pointgeometry = arcpy.PointGeometry(point)\n",
      "\n",
      "print pointgeometry"
     ],
     "language": "python",
     "metadata": {},
     "outputs": [
      {
       "output_type": "stream",
       "stream": "stdout",
       "text": [
        "<geoprocessing describe geometry object object at 0x1540BDC0>\n"
       ]
      }
     ],
     "prompt_number": 40
    },
    {
     "cell_type": "heading",
     "level": 3,
     "metadata": {},
     "source": [
      "Creating a Polyline Geometry Object"
     ]
    },
    {
     "cell_type": "code",
     "collapsed": false,
     "input": [
      "listofpoints = [[2, 3], [3, 2], [4, 5], [5, 6]]\n",
      "\n",
      "array = arcpy.Array()\n",
      "for point in listofpoints:\n",
      "    array.add(arcpy.Point(*point))\n",
      "line = arcpy.Polyline(array)\n",
      "\n",
      "print line"
     ],
     "language": "python",
     "metadata": {},
     "outputs": [
      {
       "output_type": "stream",
       "stream": "stdout",
       "text": [
        "<geoprocessing describe geometry object object at 0x154C8080>\n"
       ]
      }
     ],
     "prompt_number": 47
    },
    {
     "cell_type": "heading",
     "level": 3,
     "metadata": {},
     "source": [
      "Creating a Polygon Geometry Object"
     ]
    },
    {
     "cell_type": "code",
     "collapsed": false,
     "input": [
      "# order is important!!!\n",
      "listofpoints = [[0, 0], [0, 5], [5, 5], [5, 0]]\n",
      "polygon = arcpy.Polygon(arcpy.Array([arcpy.Point(*coords) for coords in listofpoints]))\n",
      "\n",
      "print polygon"
     ],
     "language": "python",
     "metadata": {},
     "outputs": [
      {
       "output_type": "stream",
       "stream": "stdout",
       "text": [
        "<geoprocessing describe geometry object object at 0x153FE2E0>\n"
       ]
      }
     ],
     "prompt_number": 48
    },
    {
     "cell_type": "heading",
     "level": 2,
     "metadata": {},
     "source": [
      "Doing a Little Analysis"
     ]
    },
    {
     "cell_type": "code",
     "collapsed": false,
     "input": [
      "if polygon.touches(line):\n",
      "    print \"poly touches line\"\n",
      "    \n",
      "if polygon.crosses(line):\n",
      "    print \"poly crosses line\"\n",
      "    \n",
      "if pointgeometry.within(polygon):\n",
      "    print \"point within poly\"\n",
      "    \n",
      "print polygon.firstPoint\n",
      "\n",
      "print \"distance from point to poly centroid: {}\".format(pointgeometry.distanceTo(polygon.centroid))"
     ],
     "language": "python",
     "metadata": {},
     "outputs": [
      {
       "output_type": "stream",
       "stream": "stdout",
       "text": [
        "poly crosses line\n",
        "point within poly\n",
        "0 0 NaN NaN\n",
        "distance from point to poly centroid: 0.707106786455\n"
       ]
      }
     ],
     "prompt_number": 56
    },
    {
     "cell_type": "heading",
     "level": 2,
     "metadata": {},
     "source": [
      "A Scenario"
     ]
    },
    {
     "cell_type": "markdown",
     "metadata": {},
     "source": [
      "USGS geologists have predicted that Mt. Hood is poised for an imminent eruption. We need to post a closure notice for each airport in the counties within 50 miles of the mountain so air traffic can be suspended and/or diverted, due to the dangerous ash cloud.\n",
      "\n",
      "We have typically done an analysis like this using toolbox tools, but in this example we will only use arcpy geometry objects. To start, we need to setup our project like always. Next, we will need to buffer the Mt. hood volcano point by 50 miles. With the buffer, we will find all intersected counties, and then find all the airports within those counties, compiling a list for each county."
     ]
    },
    {
     "cell_type": "heading",
     "level": 3,
     "metadata": {},
     "source": [
      "We Need to Buffer the Mt. Hood Point"
     ]
    },
    {
     "cell_type": "code",
     "collapsed": false,
     "input": [
      "# first we need the point\n",
      "hood = [row[1] for row in arcpy.da.SearchCursor(VOLCANOES, [\"NAME\", \"SHAPE@\"], \"NAME = 'Hood'\")]\n",
      "\n",
      "if len(hood) == 1:\n",
      "    hood = hood[0]\n",
      "else:\n",
      "    raise Exception(\"Volcano error: expected only one, got {}.\".format(len(hood)))\n",
      "\n",
      "# what is hood?\n",
      "print hood"
     ],
     "language": "python",
     "metadata": {},
     "outputs": [
      {
       "output_type": "stream",
       "stream": "stdout",
       "text": [
        "<geoprocessing describe geometry object object at 0x1540B500>\n"
       ]
      }
     ],
     "prompt_number": 20
    },
    {
     "cell_type": "code",
     "collapsed": false,
     "input": [
      "# we can buffer hood, but we need the distance in units of hood CRS...\n",
      "# what is hood's inital CRS\n",
      "print hood.spatialReference.name\n",
      "\n",
      "# it is actually a GCS, not a CRS...we need to project\n",
      "hood = hood.projectAs(CRS)\n",
      "print hood.spatialReference.name\n",
      "print hood.spatialReference.linearUnitName\n",
      "\n",
      "# now we can buffer\n",
      "hood_buffer = hood.buffer(5280 * 50)"
     ],
     "language": "python",
     "metadata": {},
     "outputs": [
      {
       "output_type": "stream",
       "stream": "stdout",
       "text": [
        "NAD_1983_HARN_StatePlane_Oregon_North_FIPS_3601_Feet_Intl\n",
        "NAD_1983_HARN_StatePlane_Oregon_North_FIPS_3601_Feet_Intl\n",
        "Foot\n"
       ]
      }
     ],
     "prompt_number": 31
    },
    {
     "cell_type": "heading",
     "level": 3,
     "metadata": {},
     "source": [
      "Now Let's Get the Counties Intersected by Hood's Buffer"
     ]
    },
    {
     "cell_type": "code",
     "collapsed": false,
     "input": [
      "counties = {}\n",
      "with arcpy.da.SearchCursor(COUNTIES, [\"NAME\", \"SHAPE@\"], \"STATE_NAME = 'Oregon' OR STATE_NAME = 'Washington'\") as cursor:\n",
      "    for row in cursor:\n",
      "        # try running this without projecting and see what happens\n",
      "        county = row[1].projectAs(CRS)\n",
      "        if not hood_buffer.disjoint(county):\n",
      "            counties[row[0]] = county\n",
      "            \n",
      "print counties"
     ],
     "language": "python",
     "metadata": {},
     "outputs": [
      {
       "output_type": "stream",
       "stream": "stdout",
       "text": [
        "{u'Multnomah': <Polygon object at 0x1540b050[0x1540bb60]>, u'Clackamas': <Polygon object at 0x1540b0b0[0x1540b080]>, u'Clark': <Polygon object at 0x1540bbd0[0x1540bc20]>, u'Klickitat': <Polygon object at 0x1540bbb0[0x1540bd00]>, u'Yakima': <Polygon object at 0x153f8d70[0x153f8ba0]>, u'Sherman': <Polygon object at 0x1540ba10[0x1540b5c0]>, u'Wasco': <Polygon object at 0x1540beb0[0x1540b640]>, u'Linn': <Polygon object at 0x1540be70[0x1540b660]>, u'Jefferson': <Polygon object at 0x1540b490[0x1540b540]>, u'Marion': <Polygon object at 0x1540bb50[0x1540bae0]>, u'Hood River': <Polygon object at 0x1540bdb0[0x1540b1e0]>, u'Skamania': <Polygon object at 0x1540bed0[0x1540bce0]>}\n"
       ]
      }
     ],
     "prompt_number": 34
    },
    {
     "cell_type": "heading",
     "level": 3,
     "metadata": {},
     "source": [
      "Now We Can Find the Airports"
     ]
    },
    {
     "cell_type": "code",
     "collapsed": false,
     "input": [
      "airports = {}\n",
      "with arcpy.da.SearchCursor(AIRPORTS, [\"LOCID\", \"SHAPE@XY\"], \"STATE = 'Oregon' OR STATE = 'Washington'\", spatial_reference=CRS) as cursor:\n",
      "    for row in cursor:\n",
      "        for countyname, countygeom in counties.iteritems():\n",
      "            #if arcpy.Point(row[1][0], row[1][1]).within(countygeom):\n",
      "            if countygeom.contains(arcpy.Point(row[1][0], row[1][1])):\n",
      "                try:\n",
      "                    airports[countyname] = airports[countyname] + [row[0]]\n",
      "                except KeyError:\n",
      "                    airports[countyname] = [row[0]]\n",
      "                \n",
      "print airports"
     ],
     "language": "python",
     "metadata": {},
     "outputs": [
      {
       "output_type": "stream",
       "stream": "stdout",
       "text": [
        "{u'Multnomah': [u'PDX'], u'Marion': [u'UAO'], u'Yakima': [u'YKM']}\n"
       ]
      }
     ],
     "prompt_number": 35
    }
   ],
   "metadata": {}
  }
 ]
}